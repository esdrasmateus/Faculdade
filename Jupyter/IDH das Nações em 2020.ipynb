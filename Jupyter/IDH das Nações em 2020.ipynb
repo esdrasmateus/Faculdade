{
 "cells": [
  {
   "cell_type": "markdown",
   "id": "8975a615",
   "metadata": {},
   "source": [
    "# Regras\n",
    "\n",
    "Para essa base de dados disponibilizada (`IDH_Nacoes_2020.xlsx`), resolva os problemas abaixo.\n",
    "Lembre-se de que suas resoluções **SEMPRE** deve conter os quatro elementos seguintes:\n",
    "  * Justificativa das técnicas usadas paa resolução\n",
    "  * Implementação da solução\n",
    "  * Resposta - Opinião própria\n",
    "  * Comentário/justificativa do resultado"
   ]
  },
  {
   "cell_type": "markdown",
   "id": "ebb8551a",
   "metadata": {},
   "source": [
    "# Análise sobre os indicadores de desenvolvimento humano\n",
    "\n",
    "O arquivo anexado `IDH_Nacoes_2020.xlsx` trás um recorte do indicadores de desenvolvimento humano computados de 189 nações do nosso globo.\n",
    "\n",
    "Os indicadores observados foram:\n",
    "  * Expectativa de vida ao nascer\n",
    "  * Expectativa de anos de escolaridade\n",
    "  * Média de anos de escolaridade\n",
    "  * Renda nacional bruta (RNB) per capita\n",
    "  \n",
    "E, com base neles, foi calculado o Índice de Desenvolvimento Humano (HDI)."
   ]
  },
  {
   "attachments": {},
   "cell_type": "markdown",
   "id": "463ec3a4",
   "metadata": {},
   "source": [
    "## Problema 1\n",
    "\n",
    "**Deseja-se criar um modelo preditivo do IDH dado os quatro valores de: Expectativa de vida ao nascer, Expectativa de anos de escolaridade, Média de anos de escolaridade e Renda nacional bruta (RNB) per capita.**\n",
    "\n",
    "**Utilizando Aprendizagem de Máquina, treine um modelo que resolva o problema proposto e prediga os valores de IDH para os padrões de teste abaixo:**\n",
    "\n",
    "| Padrão de teste | Expectativa de vida ao nascer | Expectativa de anos de escolaridade | Média de anos de escolaridade | Renda nacional bruta (RNB) per capita |\n",
    "| --- | --- | --- | --- | --- |\n",
    "| 1 | 72,1\t|\t12,1\t|\t7,3\t|\t14.869 |\n",
    "| 2 | 75,4\t|\t13,6\t|\t8,1\t|\t14.710 |\n",
    "| 3 | 74,4\t|\t14,7\t|\t10,4\t|\t17.939 |\n",
    "| 4 | 75,6\t|\t14,6\t|\t8,7\t|\t14.812 |\n",
    "| 5 | 69,9\t|\t11,7\t|\t6,5\t|\t6.532 |\n",
    "| 6 | 61,5\t|\t10,1\t|\t5,8\t|\t3.686 |"
   ]
  },
  {
   "cell_type": "markdown",
   "id": "6cd4da7a",
   "metadata": {},
   "source": [
    "### Justificativa das técnicas usadas paa resolução"
   ]
  },
  {
   "cell_type": "code",
   "execution_count": null,
   "id": "95b0a47d",
   "metadata": {
    "vscode": {
     "languageId": "plaintext"
    }
   },
   "outputs": [],
   "source": [
    "Foi utlizada a métrica 'R-squared (R²) que representa a proporção da variancia peara uma variável dependente, que é explicada por uma variável ou variáveis \n",
    "independentes em um modelo de regressão.\n",
    "No caso, se o R² de um modelo é 0.50, então aproximadamente metade dos resultados estarão corretos.\n",
    "\n",
    "Todas as respostas utilizadas para o exercício serão feitas utilizando a linguagem 'C#' e ferramentas do .NET da Microsoft voltadas para Aprendizagem de Máquina."
   ]
  },
  {
   "cell_type": "markdown",
   "id": "51cad894",
   "metadata": {},
   "source": [
    "### Implementação da solução"
   ]
  },
  {
   "cell_type": "code",
   "execution_count": null,
   "id": "02a67b59",
   "metadata": {
    "vscode": {
     "languageId": "csharp"
    }
   },
   "outputs": [],
   "source": [
    "// Arquivo principal para introdução dos dados e recebimento do resultado\n",
    "\n",
    "using MLFaculdade;\n",
    "\n",
    "//Load sample data\n",
    "var sampleData = new PredictIDH.ModelInput()\n",
    "{\n",
    "    Países = @\"Norway\",\n",
    "    Expectativa_de_vida_ao_nascer = 82.4F,\n",
    "    Expectativa_de_anos_de_escolaridade = 18.1F,\n",
    "    Média_de_anos_de_escolaridade = 12.9F,\n",
    "    Renda_nacional_bruta__RNB__per_capita = 66494F,\n",
    "};\n",
    "\n",
    "//Load model and predict output\n",
    "var result = PredictIDH.Predict(sampleData);"
   ]
  },
  {
   "cell_type": "code",
   "execution_count": null,
   "id": "d980485f",
   "metadata": {
    "vscode": {
     "languageId": "csharp"
    }
   },
   "outputs": [],
   "source": [
    "// Arquivo que contém o método publico que irá criar e retornar a previsão\n",
    "\n",
    "using Microsoft.ML;\n",
    "using Microsoft.ML.Data;\n",
    "using System;\n",
    "using System.Linq;\n",
    "using System.IO;\n",
    "using System.Collections.Generic;\n",
    "namespace MLFaculdade\n",
    "{\n",
    "    public partial class PredictIDH\n",
    "    {\n",
    "        /// <summary>\n",
    "        /// model input class for PredictIDH.\n",
    "        /// </summary>\n",
    "        #region model input class\n",
    "        public class ModelInput\n",
    "        {\n",
    "            [ColumnName(@\"Países\")]\n",
    "            public string Países { get; set; }\n",
    "\n",
    "            [ColumnName(@\"Indice Desenvolvimento Humano (IDH)\")]\n",
    "            public float Indice_Desenvolvimento_Humano__IDH_ { get; set; }\n",
    "\n",
    "            [ColumnName(@\"Expectativa de vida ao nascer\")]\n",
    "            public float Expectativa_de_vida_ao_nascer { get; set; }\n",
    "\n",
    "            [ColumnName(@\"Expectativa de anos de escolaridade\")]\n",
    "            public float Expectativa_de_anos_de_escolaridade { get; set; }\n",
    "\n",
    "            [ColumnName(@\"Média de anos de escolaridade\")]\n",
    "            public float Média_de_anos_de_escolaridade { get; set; }\n",
    "\n",
    "            [ColumnName(@\"Renda nacional bruta (RNB) per capita\")]\n",
    "            public float Renda_nacional_bruta__RNB__per_capita { get; set; }\n",
    "\n",
    "        }\n",
    "\n",
    "        #endregion\n",
    "\n",
    "        /// <summary>\n",
    "        /// model output class for PredictIDH.\n",
    "        /// </summary>\n",
    "        #region model output class\n",
    "        public class ModelOutput\n",
    "        {\n",
    "            public float Score { get; set; }\n",
    "        }\n",
    "        #endregion\n",
    "\n",
    "        private static string MLNetModelPath = Path.GetFullPath(\"PredictIDH.zip\");\n",
    "\n",
    "        public static readonly Lazy<PredictionEngine<ModelInput, ModelOutput>> PredictEngine = new Lazy<PredictionEngine<ModelInput, ModelOutput>>(() => CreatePredictEngine(), true);\n",
    "\n",
    "        /// <summary>\n",
    "        /// Use this method to predict on <see cref=\"ModelInput\"/>.\n",
    "        /// </summary>\n",
    "        /// <param name=\"input\">model input.</param>\n",
    "        /// <returns><seealso cref=\" ModelOutput\"/></returns>\n",
    "        public static ModelOutput Predict(ModelInput input)\n",
    "        {\n",
    "            var predEngine = PredictEngine.Value;\n",
    "            return predEngine.Predict(input);\n",
    "        }\n",
    "\n",
    "        private static PredictionEngine<ModelInput, ModelOutput> CreatePredictEngine()\n",
    "        {\n",
    "            var mlContext = new MLContext();\n",
    "            ITransformer mlModel = mlContext.Model.Load(MLNetModelPath, out var _);\n",
    "            return mlContext.Model.CreatePredictionEngine<ModelInput, ModelOutput>(mlModel);\n",
    "        }\n",
    "    }\n",
    "}\n"
   ]
  },
  {
   "cell_type": "code",
   "execution_count": null,
   "id": "27c0d930",
   "metadata": {
    "vscode": {
     "languageId": "csharp"
    }
   },
   "outputs": [],
   "source": [
    "// Arquivo que contém a configuração de treinamento do sistema.\n",
    "\n",
    "using System;\n",
    "using System.Collections.Generic;\n",
    "using System.Linq;\n",
    "using System.Text;\n",
    "using System.Threading.Tasks;\n",
    "using Microsoft.ML.Data;\n",
    "using Microsoft.ML.Trainers;\n",
    "using Microsoft.ML;\n",
    "\n",
    "namespace MLFaculdade\n",
    "{\n",
    "    public partial class PredictIDH\n",
    "    {\n",
    "        public static ITransformer RetrainPipeline(MLContext context, IDataView trainData)\n",
    "        {\n",
    "            var pipeline = BuildPipeline(context);\n",
    "            var model = pipeline.Fit(trainData);\n",
    "\n",
    "            return model;\n",
    "        }\n",
    "\n",
    "        /// <summary>\n",
    "        /// build the pipeline that is used. Use this function to retrain model.\n",
    "        /// </summary>\n",
    "        /// <param name=\"mlContext\"></param>\n",
    "        /// <returns></returns>\n",
    "        public static IEstimator<ITransformer> BuildPipeline(MLContext mlContext)\n",
    "        {\n",
    "            // Data process configuration with pipeline data transformations\n",
    "            var pipeline = mlContext.Transforms.ReplaceMissingValues(new []{new InputOutputColumnPair(@\"Expectativa de vida ao nascer\", @\"Expectativa de vida ao nascer\"),new InputOutputColumnPair(@\"Expectativa de anos de escolaridade\", @\"Expectativa de anos de escolaridade\"),new InputOutputColumnPair(@\"Média de anos de escolaridade\", @\"Média de anos de escolaridade\"),new InputOutputColumnPair(@\"Renda nacional bruta (RNB) per capita\", @\"Renda nacional bruta (RNB) per capita\")})      \n",
    "                                    .Append(mlContext.Transforms.Text.FeaturizeText(@\"Países\", @\"Países\"))      \n",
    "                                    .Append(mlContext.Transforms.Concatenate(@\"Features\", new []{@\"Expectativa de vida ao nascer\",@\"Expectativa de anos de escolaridade\",@\"Média de anos de escolaridade\",@\"Renda nacional bruta (RNB) per capita\",@\"Países\"}))      \n",
    "                                    .Append(mlContext.Transforms.NormalizeMinMax(@\"Features\", @\"Features\"))      \n",
    "                                    .Append(mlContext.Regression.Trainers.LbfgsPoissonRegression(l1Regularization:0.342754410622423F,l2Regularization:1.51801721911537F,labelColumnName:@\"Indice Desenvolvimento Humano (IDH)\",featureColumnName:@\"Features\"));\n",
    "\n",
    "            return pipeline;\n",
    "        }\n",
    "    }\n",
    "}\n"
   ]
  },
  {
   "cell_type": "markdown",
   "id": "d8efccf0",
   "metadata": {},
   "source": [
    "### Resposta - Opinião própria"
   ]
  },
  {
   "cell_type": "code",
   "execution_count": null,
   "id": "ff68bf29",
   "metadata": {
    "vscode": {
     "languageId": "plaintext"
    }
   },
   "outputs": [],
   "source": [
    "Tal cenário deu como resultado 0.89 de acurácia quando utilizado na técnica R².\n",
    "Quando colocado para executar, as respostas dadas pelo sistema foram próximas, mas sempre eram arrendondadas para cima quando comparados à tabela, como, por exemplo, quando\n",
    "foi dado para executar os dados da Noruega, o IDH de resultado foi 0.960, quando na tabela está 0.957."
   ]
  },
  {
   "cell_type": "markdown",
   "id": "4a067f3b",
   "metadata": {},
   "source": [
    "### Comentário/justificativa do resultado"
   ]
  },
  {
   "cell_type": "code",
   "execution_count": null,
   "id": "d4ddc482",
   "metadata": {
    "vscode": {
     "languageId": "plaintext"
    }
   },
   "outputs": [],
   "source": [
    "Os resultados mostrados pelo cenário indicam que com uma acurácia tão alta, a maioria dos resultados apresentados seguirão os resultados dados na tabela, com um índice de erro de\n",
    "alguns pontos para cima, visando arredondar o número para a casa mais perto do zero."
   ]
  },
  {
   "cell_type": "markdown",
   "id": "fe762de6",
   "metadata": {},
   "source": [
    "## Problema 2\n",
    "\n",
    "**Através dos dados, um pesquisador deseja entender como os indicadores contribuem para a formação do IDH.**\n",
    "\n",
    "**Com uso de AM, apresente uma alternativa para análise desses indicadores e indique qual é a ordenação descendente deles em grau de importância quanto a formação do valor de IDH**"
   ]
  },
  {
   "cell_type": "markdown",
   "id": "59128f2c",
   "metadata": {},
   "source": [
    "### Justificativa das técnicas usadas paa resolução"
   ]
  },
  {
   "cell_type": "code",
   "execution_count": null,
   "id": "5516bab4",
   "metadata": {},
   "outputs": [],
   "source": []
  },
  {
   "cell_type": "markdown",
   "id": "529b3efc",
   "metadata": {},
   "source": [
    "### Implementação da solução"
   ]
  },
  {
   "cell_type": "code",
   "execution_count": null,
   "id": "db642924",
   "metadata": {},
   "outputs": [],
   "source": []
  },
  {
   "cell_type": "markdown",
   "id": "26fa0d3e",
   "metadata": {},
   "source": [
    "### Resposta - Opinião própria"
   ]
  },
  {
   "cell_type": "code",
   "execution_count": null,
   "id": "b47ed2f8",
   "metadata": {},
   "outputs": [],
   "source": []
  },
  {
   "cell_type": "markdown",
   "id": "f97496d1",
   "metadata": {},
   "source": [
    "### Comentário/justificativa do resultado"
   ]
  },
  {
   "cell_type": "code",
   "execution_count": null,
   "id": "b6468fd0",
   "metadata": {},
   "outputs": [],
   "source": []
  },
  {
   "cell_type": "markdown",
   "id": "ae5de2ed",
   "metadata": {},
   "source": [
    "## Problema 3\n",
    "\n",
    "**Deseja-se classificar os países em quatro categorias, de acordo com seu valor de IDH. As categorias são: IDH muito alto, IDH alto, IDH médio e IDH baixo.**\n",
    "\n",
    "**Analise os dados e apresente uma solução coerente que use AM para determinar a faixa de valores de IDH de cada categoria.**\n",
    "\n",
    "**Além disso, utilizando suas soluções, os padrões de teste do `Problema 1` recebem qual categoria de IDH?**"
   ]
  },
  {
   "cell_type": "markdown",
   "id": "20bd27da",
   "metadata": {},
   "source": [
    "### Justificativa das técnicas usadas paa resolução"
   ]
  },
  {
   "cell_type": "code",
   "execution_count": null,
   "id": "bb7c7872",
   "metadata": {},
   "outputs": [],
   "source": []
  },
  {
   "cell_type": "markdown",
   "id": "9daac461",
   "metadata": {},
   "source": [
    "### Implementação da solução"
   ]
  },
  {
   "cell_type": "code",
   "execution_count": null,
   "id": "1c12ed21",
   "metadata": {},
   "outputs": [],
   "source": []
  },
  {
   "cell_type": "markdown",
   "id": "78f1e6af",
   "metadata": {},
   "source": [
    "### Resposta - Opinião própria"
   ]
  },
  {
   "cell_type": "code",
   "execution_count": null,
   "id": "25e41b27",
   "metadata": {},
   "outputs": [],
   "source": []
  },
  {
   "cell_type": "markdown",
   "id": "7d0ab38c",
   "metadata": {},
   "source": [
    "### Comentário/justificativa do resultado"
   ]
  },
  {
   "cell_type": "code",
   "execution_count": null,
   "id": "721ae612",
   "metadata": {},
   "outputs": [],
   "source": []
  }
 ],
 "metadata": {
  "kernelspec": {
   "display_name": "Python 3",
   "language": "python",
   "name": "python3"
  },
  "language_info": {
   "codemirror_mode": {
    "name": "ipython",
    "version": 3
   },
   "file_extension": ".py",
   "mimetype": "text/x-python",
   "name": "python",
   "nbconvert_exporter": "python",
   "pygments_lexer": "ipython3",
   "version": "3.8.8"
  }
 },
 "nbformat": 4,
 "nbformat_minor": 5
}
